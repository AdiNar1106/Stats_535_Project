{
 "cells": [
  {
   "cell_type": "code",
   "execution_count": null,
   "metadata": {},
   "outputs": [],
   "source": [
    "import pandas as pd\n",
    "import numpy as np\n",
    "import seaborn as sns\n",
    "from sklearn.model_selection import train_test_split\n",
    "from yellowbrick.target import FeatureCorrelation\n",
    "import matplotlib.pyplot as plt\n",
    "import plotly.express as px"
   ]
  },
  {
   "cell_type": "code",
   "execution_count": null,
   "metadata": {},
   "outputs": [],
   "source": [
    "spotify_df = pd.read_csv(\"data/data.csv\")\n",
    "year_data = pd.read_csv(\"data/data_by_year.csv\")\n",
    "spotify_df.columns\n",
    "spotify_df.head()"
   ]
  },
  {
   "cell_type": "code",
   "execution_count": null,
   "metadata": {},
   "outputs": [],
   "source": [
    "spotify_df[\"year\"] = pd.to_numeric(spotify_df[\"year\"])"
   ]
  },
  {
   "cell_type": "code",
   "execution_count": null,
   "metadata": {},
   "outputs": [],
   "source": [
    "spotify_df = spotify_df.drop_duplicates(subset=[\"name\", \"artists\"]).reset_index().drop('index', axis=1)\n",
    "spotify_df.head()"
   ]
  },
  {
   "cell_type": "markdown",
   "metadata": {},
   "source": [
    "### Data Exploration"
   ]
  },
  {
   "cell_type": "markdown",
   "metadata": {},
   "source": [
    "##### Music Over Time"
   ]
  },
  {
   "cell_type": "code",
   "execution_count": null,
   "metadata": {},
   "outputs": [],
   "source": [
    "def get_decade(year):\n",
    "    \n",
    "    period_start = int(year/10) * 10\n",
    "    decade = '{}s'.format(period_start)\n",
    "    \n",
    "    return decade\n",
    "\n",
    "spotify_df['decade'] = spotify_df['year'].apply(get_decade)\n",
    "\n",
    "sns.set(rc={'figure.figsize':(11 ,6)})\n",
    "sns.countplot(spotify_df['decade'])"
   ]
  },
  {
   "cell_type": "code",
   "execution_count": null,
   "metadata": {},
   "outputs": [],
   "source": [
    "sns.lineplot(x='year', y='tempo', data=spotify_df)"
   ]
  },
  {
   "cell_type": "markdown",
   "metadata": {},
   "source": [
    "Checking for the Feature Correlation by considering a few features "
   ]
  },
  {
   "cell_type": "code",
   "execution_count": null,
   "metadata": {},
   "outputs": [],
   "source": [
    "feature_names = ['acousticness', 'danceability', 'energy', 'instrumentalness',\n",
    "       'liveness', 'loudness', 'speechiness', 'tempo', 'valence','duration_ms','explicit','key','mode','year']\n",
    "\n",
    "X, y = spotify_df[feature_names], spotify_df['popularity']\n",
    "\n",
    "# Create a list of the feature names\n",
    "features = np.array(feature_names)\n",
    "\n",
    "# Instantiate the visualizer\n",
    "visualizer = FeatureCorrelation(labels=features)\n",
    "\n",
    "plt.rcParams['figure.figsize']=(10,5)\n",
    "visualizer.fit(X, y)     # Fit the data to the visualizer\n",
    "visualizer.show()"
   ]
  },
  {
   "cell_type": "code",
   "execution_count": null,
   "metadata": {},
   "outputs": [],
   "source": [
    "sound_features = ['acousticness', 'danceability', 'energy', 'instrumentalness', 'liveness', 'valence']\n",
    "fig = px.line(year_data, x='year', y=sound_features)\n",
    "plt.rcParams['figure.figsize']=(8,5)\n",
    "fig.show()"
   ]
  },
  {
   "cell_type": "markdown",
   "metadata": {},
   "source": [
    "### Model Building"
   ]
  },
  {
   "cell_type": "code",
   "execution_count": null,
   "metadata": {},
   "outputs": [],
   "source": [
    "from sklearn.neighbors import NearestNeighbors\n",
    "from scipy.sparse import csr_matrix"
   ]
  },
  {
   "cell_type": "code",
   "execution_count": null,
   "metadata": {},
   "outputs": [],
   "source": [
    "df_features = spotify_df[[\"id\", \"acousticness\", \"danceability\", \"energy\", \"instrumentalness\", \"liveness\", \"loudness\", \"speechiness\", \"tempo\", \"valence\", \"year\"]]\n",
    "df_features.head()"
   ]
  },
  {
   "cell_type": "code",
   "execution_count": null,
   "metadata": {},
   "outputs": [],
   "source": [
    "from sklearn.preprocessing import StandardScaler\n",
    "scaler = StandardScaler()"
   ]
  },
  {
   "cell_type": "code",
   "execution_count": null,
   "metadata": {},
   "outputs": [],
   "source": [
    "df_features.index = df_features[\"id\"]\n",
    "df_features.drop('id', axis=1, inplace=True)\n",
    "# X_scaled = scaler.fit_transform(df_features)\n",
    "df_features['loudness'] = df_features['loudness']+60\n",
    "df_features['loudness'] = df_features['loudness']/63.855\n",
    "df_features['tempo'] = df_features['tempo']/244.091"
   ]
  },
  {
   "cell_type": "code",
   "execution_count": null,
   "metadata": {},
   "outputs": [],
   "source": [
    "df_features.head()"
   ]
  },
  {
   "cell_type": "code",
   "execution_count": null,
   "metadata": {},
   "outputs": [],
   "source": [
    "model = NearestNeighbors(algorithm='kd_tree', n_neighbors=20)\n",
    "model2 = NearestNeighbors(algorithm = 'brute', n_neighbors = 20)"
   ]
  },
  {
   "cell_type": "markdown",
   "metadata": {},
   "source": [
    "We have made n_neighbors = 20. This essentially prepares us to give up to 20 different recommendations to our users!"
   ]
  },
  {
   "cell_type": "code",
   "execution_count": null,
   "metadata": {},
   "outputs": [],
   "source": [
    "sparse_mat_songs = csr_matrix(df_features.values)\n",
    "mat_songs = np.array(df_features.values)"
   ]
  },
  {
   "cell_type": "code",
   "execution_count": null,
   "metadata": {},
   "outputs": [],
   "source": [
    "import timeit\n",
    "# %%timeit\n",
    "%timeit model.fit(mat_songs)\n",
    "%timeit model2.fit(mat_songs)\n",
    "#"
   ]
  },
  {
   "cell_type": "code",
   "execution_count": null,
   "metadata": {},
   "outputs": [],
   "source": [
    "import spotipy\n",
    "from spotipy.oauth2 import SpotifyClientCredentials\n",
    "from collections import defaultdict\n",
    "from data.spotify_keys import get_credentials\n",
    "cid, secret = get_credentials()\n",
    "\n",
    "client_credentials_manager = SpotifyClientCredentials(client_id=cid, client_secret=secret)\n",
    "sp = spotipy.Spotify(client_credentials_manager = client_credentials_manager)"
   ]
  },
  {
   "cell_type": "code",
   "execution_count": null,
   "metadata": {},
   "outputs": [],
   "source": [
    "def find_song(name, year):\n",
    "    song_data = defaultdict()\n",
    "    results = sp.search(q= 'track: {} year: {}'.format(name,year), limit=1)\n",
    "    if results['tracks']['items'] == []:\n",
    "        return None\n",
    "\n",
    "    results = results['tracks']['items'][0]\n",
    "    track_id = results['id']\n",
    "    audio_features = sp.audio_features(track_id)[0]\n",
    "\n",
    "    song_data['name'] = [name]\n",
    "    song_data['year'] = [year]\n",
    "    song_data['artists'] = [results['artists'][0]['name']]\n",
    "    song_data['explicit'] = [int(results['explicit'])]\n",
    "    song_data['duration_ms'] = [results['duration_ms']]\n",
    "    song_data['popularity'] = [results['popularity']]\n",
    "\n",
    "    for key, value in audio_features.items():\n",
    "        song_data[key] = value\n",
    "    df_ret = pd.DataFrame(song_data)\n",
    "    return df_ret[[\"artists\", \"acousticness\", \"danceability\", \"energy\", \"instrumentalness\", \"liveness\", \"loudness\", \"speechiness\", \"tempo\", \"valence\", \"year\"]]"
   ]
  },
  {
   "cell_type": "code",
   "execution_count": null,
   "metadata": {},
   "outputs": [],
   "source": [
    "def recommend(name, year, model, number_of_recommendations):\n",
    "    #query = df_features.loc[id].to_numpy().reshape(1,-1)\n",
    "    query = find_song(name, year).drop('artists', axis=1).to_numpy().reshape(1,-1)\n",
    "    print('Searching for recommendations, please wait...')\n",
    "    print('                            Recommendations                           ')\n",
    "    print('----------------------------------------------------------------------')\n",
    "    distances, indices = model.kneighbors(query,n_neighbors = number_of_recommendations)\n",
    "    # print(distances)\n",
    "    print(indices)\n",
    "    try:\n",
    "        for i in indices:\n",
    "            print(spotify_df[['name','artists']].loc[i].where(spotify_df['name']!=name).dropna())\n",
    "        %timeit model.kneighbors(query,n_neighbors = number_of_recommendations)\n",
    "    except:\n",
    "        print(\"Some songs not found in DB, will be updated soon\")\n",
    "        "
   ]
  },
  {
   "cell_type": "code",
   "execution_count": null,
   "metadata": {},
   "outputs": [],
   "source": [
    "def recommend2(name, year, model, number_of_recommendations):\n",
    "    #query = df_features.loc[id].to_numpy().reshape(1,-1)\n",
    "    query = find_song(name, year).drop('artists', axis=1).to_numpy().reshape(1,-1)\n",
    "    print('Searching for recommendations, please wait...')\n",
    "    print('                            Recommendations                           ')\n",
    "    print('----------------------------------------------------------------------')\n",
    "    distances, indices = model.kneighbors(query,n_neighbors = number_of_recommendations)\n",
    "    # print(distances)\n",
    "    print(indices)\n",
    "    try:\n",
    "        for i in indices:\n",
    "            print(spotify_df[['name','artists']].loc[i].where(spotify_df['name']!=name).dropna())\n",
    "        %timeit model.kneighbors(query,n_neighbors = number_of_recommendations)\n",
    "    except:\n",
    "        print(\"Some songs not found in DB, will be updated soon\")"
   ]
  },
  {
   "cell_type": "code",
   "execution_count": null,
   "metadata": {},
   "outputs": [],
   "source": [
    "def test_recs():\n",
    "    name = input('Enter song title: ')\n",
    "    # print('Search results: ')\n",
    "    # print(spotify_df[['artists','name']].where(spotify_df['name'] == name).dropna())\n",
    "\n",
    "    # ind = int(input('Enter the index value of your desired song: '))\n",
    "    # id = spotify_df['id'].loc[ind]\n",
    "    year = int(input(\"Enter the year the song was released\"))\n",
    "\n",
    "    \n",
    "    artists = find_song(name, year)[\"artists\"]\n",
    "\n",
    "    print('The inputted song selected is ', name, 'by', artists)\n",
    "\n",
    "    num_recs = int(input('Enter number of recommendations: '))\n",
    "\n",
    "    recommend(name, year, model, num_recs)"
   ]
  },
  {
   "cell_type": "code",
   "execution_count": null,
   "metadata": {},
   "outputs": [],
   "source": [
    "def test_recs2():\n",
    "    name = input('Enter song title: ')\n",
    "    # print('Search results: ')\n",
    "    # print(spotify_df[['artists','name']].where(spotify_df['name'] == name).dropna())\n",
    "\n",
    "    # ind = int(input('Enter the index value of your desired song: '))\n",
    "    # id = spotify_df['id'].loc[ind]\n",
    "    year = int(input(\"Enter the year the song was released\"))\n",
    "\n",
    "    \n",
    "    artists = find_song(name, year)[\"artists\"]\n",
    "\n",
    "    print('The inputted song selected is ', name, 'by', artists)\n",
    "\n",
    "    num_recs = int(input('Enter number of recommendations: '))\n",
    "\n",
    "    recommend2(name, year, model2, num_recs)"
   ]
  },
  {
   "cell_type": "code",
   "execution_count": null,
   "metadata": {},
   "outputs": [],
   "source": [
    "test_recs()"
   ]
  },
  {
   "cell_type": "code",
   "execution_count": null,
   "metadata": {},
   "outputs": [],
   "source": [
    "test_recs2()"
   ]
  },
  {
   "cell_type": "code",
   "execution_count": null,
   "metadata": {},
   "outputs": [],
   "source": []
  }
 ],
 "metadata": {
  "interpreter": {
   "hash": "cf6833cc507ba769346622b89ede17bda3dd96c7f1d3f7e00e18d30413876263"
  },
  "kernelspec": {
   "display_name": "Python 3.9.7 ('base')",
   "language": "python",
   "name": "python3"
  },
  "language_info": {
   "codemirror_mode": {
    "name": "ipython",
    "version": 3
   },
   "file_extension": ".py",
   "mimetype": "text/x-python",
   "name": "python",
   "nbconvert_exporter": "python",
   "pygments_lexer": "ipython3",
   "version": "3.9.7"
  },
  "orig_nbformat": 4
 },
 "nbformat": 4,
 "nbformat_minor": 2
}
